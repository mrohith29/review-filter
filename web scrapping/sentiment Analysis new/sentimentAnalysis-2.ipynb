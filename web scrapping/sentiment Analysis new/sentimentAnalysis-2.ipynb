{
 "cells": [
  {
   "cell_type": "code",
   "execution_count": 4,
   "metadata": {},
   "outputs": [
    {
     "name": "stdout",
     "output_type": "stream",
     "text": [
      "                                              review\n",
      "0  bought offer time installation service excelle...\n",
      "1  picture quality good kid room size received in...\n",
      "2  picture qualitysound quality excellentnumber p...\n",
      "3               tv stand given tv box add supplyread\n",
      "4  note tv table stand provided box bluetooth sup...\n"
     ]
    }
   ],
   "source": [
    "import pandas as pd\n",
    "from nltk.sentiment import SentimentIntensityAnalyzer\n",
    "\n",
    "# Load the preprocessed reviews\n",
    "df = pd.read_csv('../PreprocessedReviews.csv')\n",
    "\n",
    "print(df.head())\n"
   ]
  },
  {
   "cell_type": "code",
   "execution_count": 5,
   "metadata": {},
   "outputs": [],
   "source": [
    "topic_keywords = {\n",
    "    'Phone': [\n",
    "        'phone', 'mobile', 'smartphone', 'cellphone', 'android', 'iphone', 'handset', 'gadget', \n",
    "        'battery', 'charger', 'screen protector', 'touchscreen', 'camera phone', 'dual sim', \n",
    "        'flip phone', 'call quality', 'phone case', 'smartwatch', 'apps', 'processor', 'snapdragon', \n",
    "        'mediatek', 'wireless charging', 'fast charging', '5g', '4g', 'bluetooth', 'nfc', \n",
    "        'headphone jack', 'earphones', 'gaming phone', 'selfie camera', 'oled display', 'amoled', \n",
    "        'lcd', 'ios', 'android os', 'usb type c', 'lightning cable', 'mobile data', 'phone storage', \n",
    "        'mobile hotspot', 'ringtone', 'unlock', 'lockscreen', 'fingerprint scanner', 'face id', \n",
    "        'mobile apps', 'mobile games', 'notifications', 'emojis', 'phone calls', 'texting', \n",
    "        'smartphone camera', 'night mode', 'portrait mode', 'phone settings', 'firmware', 'wifi calling', \n",
    "        'call logs', 'sim card', 'esim', 'cloud backup', 'screen resolution', 'gorilla glass', \n",
    "        'waterproof phone', 'dustproof', 'rugged phone', 'flagship phone', 'mid-range phone', \n",
    "        'budget phone', 'android updates', 'ios updates', 'airdrop', 'icloud', 'photo storage', \n",
    "        'video calls', 'voice assistant', 'alexa', 'siri', 'google assistant', 'phone repair', \n",
    "        'broken screen', 'replace battery', 'phone recycling', 'phone plans', 'network coverage', \n",
    "        'roaming', 'unlocked phone', 'carrier locked', '3g', '2g', 'mobile photography', 'phone stylus',\n",
    "        'mobile streaming', 'podcasts', 'instant messaging', 'security patch', 'mobile vpn'\n",
    "    ],\n",
    "    'Television': [\n",
    "        'tv', 'television', 'smart tv', '4k tv', 'led', 'oled', 'qled', 'hdr', 'audio', 'picture', \n",
    "        'display', 'screen', 'home theater', 'set-top box', 'remote control', 'wifi tv', 'bluetooth tv', \n",
    "        'tv apps', 'streaming', 'netflix', 'amazon prime', 'hdmi', 'usb port', 'refresh rate', \n",
    "        'contrast ratio', 'speakers', 'soundbar', 'dolby', 'surround sound', 'projector', 'tv stand', \n",
    "        'wall mount', 'tv antenna', 'flat screen', 'curved screen', '1080p', '720p', 'smart remote', \n",
    "        'cable tv', 'iptv', 'smart display', 'tv tuner', 'energy efficient tv', 'screen mirroring', \n",
    "        'gaming monitor', 'hdtv', 'plasma', 'crt', 'voice control', 'cast to tv', 'airplay', 'roku', \n",
    "        'chromecast', 'picture-in-picture', 'aspect ratio', 'motion blur', 'smart hub', 'tv os', \n",
    "        'streaming box', 'roku stick', 'fire tv', 'android tv', 'apple tv', 'tv resolution', 'live tv', \n",
    "        'sports channels', 'pay-per-view', 'video streaming', 'youtube tv', 'prime video', 'disney+', \n",
    "        'hulu', 'video games', 'console gaming', 'ps5', 'xbox', 'gaming mode', 'input lag', \n",
    "        'tv brightness', 'wide viewing angle', 'anti-glare screen', 'tv calibration', 'wall brackets', \n",
    "        'universal remote', 'tv accessories', 'tv installation', 'tv repair', 'tv screen burn', \n",
    "        'pixel density', 'black levels', 'color depth', 'tv firmware update', 'cinematic experience', \n",
    "        'multimedia', 'family entertainment', 'tv subscription', 'on-demand tv', 'tv shows', 'movies'\n",
    "    ]\n",
    "}\n"
   ]
  },
  {
   "cell_type": "code",
   "execution_count": 6,
   "metadata": {},
   "outputs": [],
   "source": [
    "def categorize_reviews(review):\n",
    "    review = review.lower()\n",
    "    for topic, keywords in topic_keywords.items():\n",
    "        if any(keyword in review for keyword in keywords):\n",
    "            return topic\n",
    "    return 'Uncategorized'\n"
   ]
  },
  {
   "cell_type": "code",
   "execution_count": 7,
   "metadata": {},
   "outputs": [],
   "source": [
    "df['Category'] = df['review'].apply(categorize_reviews)"
   ]
  },
  {
   "cell_type": "code",
   "execution_count": 10,
   "metadata": {},
   "outputs": [],
   "source": [
    "df.to_csv('sentimentAnalysis2.csv', index=False)"
   ]
  }
 ],
 "metadata": {
  "kernelspec": {
   "display_name": "Python 3",
   "language": "python",
   "name": "python3"
  },
  "language_info": {
   "codemirror_mode": {
    "name": "ipython",
    "version": 3
   },
   "file_extension": ".py",
   "mimetype": "text/x-python",
   "name": "python",
   "nbconvert_exporter": "python",
   "pygments_lexer": "ipython3",
   "version": "3.12.7"
  }
 },
 "nbformat": 4,
 "nbformat_minor": 2
}
