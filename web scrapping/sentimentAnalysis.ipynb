{
 "cells": [
  {
   "cell_type": "code",
   "execution_count": 2,
   "metadata": {},
   "outputs": [
    {
     "name": "stdout",
     "output_type": "stream",
     "text": [
      "                                              review\n",
      "0  bought offer time installation service excelle...\n",
      "1  picture quality good kid room size received in...\n",
      "2  picture qualitysound quality excellentnumber p...\n",
      "3               tv stand given tv box add supplyread\n",
      "4  note tv table stand provided box bluetooth sup...\n"
     ]
    }
   ],
   "source": [
    "import pandas as pd\n",
    "\n",
    "# Load the preprocessed reviews\n",
    "df = pd.read_csv('./PreprocessedReviews.csv')\n",
    "\n",
    "print(df.head())\n"
   ]
  },
  {
   "cell_type": "code",
   "execution_count": 4,
   "metadata": {},
   "outputs": [],
   "source": [
    "def categorize_reviews(review):\n",
    "    review = review.lower()\n",
    "    if any(keyword in review for keyword in ['phone', 'mobile']):\n",
    "        return 'Phone'\n",
    "    elif any(keyword in review for keyword in ['tv', 'television', 'picture', 'audio']):\n",
    "        return 'Television'\n",
    "    else:\n",
    "        return 'Uncategorized'"
   ]
  },
  {
   "cell_type": "code",
   "execution_count": 7,
   "metadata": {},
   "outputs": [],
   "source": [
    "df['Category'] = df['review'].apply(categorize_reviews)"
   ]
  },
  {
   "cell_type": "code",
   "execution_count": 9,
   "metadata": {},
   "outputs": [],
   "source": [
    "sia = SentimentIntensityAnalyzer()"
   ]
  },
  {
   "cell_type": "code",
   "execution_count": 11,
   "metadata": {},
   "outputs": [],
   "source": [
    "def analyze_sentiment(text):\n",
    "    sentiment = sia.polarity_scores(text)\n",
    "    if sentiment['compound'] >= 0.05:\n",
    "        return 'Positive'\n",
    "    elif sentiment['compound'] <= -0.05:\n",
    "        return 'Negative'\n",
    "    else:\n",
    "        return 'Neutral'"
   ]
  },
  {
   "cell_type": "code",
   "execution_count": 13,
   "metadata": {},
   "outputs": [],
   "source": [
    "df['Sentiment'] = df['review'].apply(analyze_sentiment)"
   ]
  },
  {
   "cell_type": "code",
   "execution_count": 17,
   "metadata": {},
   "outputs": [
    {
     "name": "stdout",
     "output_type": "stream",
     "text": [
      "\n",
      "Phone Reviews Sentiment Analysis:\n",
      "                                               review sentiment\n",
      "8   phone works expectedit works smooth battery la...  Positive\n",
      "9   one best phones terms costs looks sleek smart ...  Positive\n",
      "10                                  good phone budget  Positive\n",
      "11  performance better eat brightness brighter tou...  Positive\n",
      "20  goodthis third purchase redmi phone prefer red...  Positive\n",
      "23       nicenessa good budget smartphone price range  Positive\n",
      "27                                 overall good phone  Positive\n",
      "28  likegood looking phone phone size niceif minim...  Positive\n",
      "29  redmi reduced earphone volume connecting earph...  Negative\n",
      "32  people think pay get good phone tell pay less ...  Positive\n",
      "33  goodgoodlooks really good connectivity also go...  Positive\n",
      "34  redmi c budgetfriendly smartphone aims offer g...  Positive\n",
      "35                             goodgoodphone hot time   Neutral\n",
      "39         camera quality must better else phone good  Positive\n",
      "43              although g overall phone good aspects  Positive\n",
      "45  cooli gift phone grand pa add less add miuithi...  Positive\n",
      "47  budget mobile performance good display works g...  Positive\n",
      "49  goodnow im using mobile last months performing...  Positive\n",
      "52  cooli gift phone grand pa add less add miuithi...  Positive\n",
      "54  budget mobile performance good display works g...  Positive\n",
      "56  goodnow im using mobile last months performing...  Positive\n",
      "\n",
      "Television Reviews Sentiment Analysis:\n",
      "                                              review sentiment\n",
      "1  picture quality good kid room size received in...  Positive\n",
      "2  picture qualitysound quality excellentnumber p...   Neutral\n",
      "3               tv stand given tv box add supplyread   Neutral\n",
      "4  note tv table stand provided box bluetooth sup...  Positive\n",
      "5  media could loadedamazing tv using since month...  Positive\n"
     ]
    }
   ],
   "source": [
    "phone_reviews = df[df['Category'] == 'Phone']\n",
    "tv_reviews = df[df['Category'] == 'Television']\n",
    "\n",
    "phone_reviews.to_csv('PhoneReviews_Sentiment.csv', index=False)\n",
    "tv_reviews.to_csv('TVReviews_Sentiment.csv', index=False)\n",
    "\n",
    "print(\"\\nPhone Reviews Sentiment Analysis:\")\n",
    "print(phone_reviews[['review', 'sentiment']])\n",
    "\n",
    "print(\"\\nTelevision Reviews Sentiment Analysis:\")\n",
    "print(tv_reviews[['review', 'sentiment']])\n"
   ]
  }
 ],
 "metadata": {
  "kernelspec": {
   "display_name": "Python 3",
   "language": "python",
   "name": "python3"
  },
  "language_info": {
   "codemirror_mode": {
    "name": "ipython",
    "version": 3
   },
   "file_extension": ".py",
   "mimetype": "text/x-python",
   "name": "python",
   "nbconvert_exporter": "python",
   "pygments_lexer": "ipython3",
   "version": "3.12.7"
  }
 },
 "nbformat": 4,
 "nbformat_minor": 2
}
