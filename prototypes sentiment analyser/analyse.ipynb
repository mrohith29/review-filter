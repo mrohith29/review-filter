{
 "cells": [
  {
   "cell_type": "markdown",
   "metadata": {},
   "source": [
    "## import the dataset"
   ]
  },
  {
   "cell_type": "code",
   "execution_count": 2,
   "metadata": {},
   "outputs": [
    {
     "name": "stdout",
     "output_type": "stream",
     "text": [
      "    Gender    Location     Product  Rating  \\\n",
      "0   Female     Florida  Headphones       2   \n",
      "1     Male       Texas  Headphones       5   \n",
      "2     Male    New York  Headphones       3   \n",
      "3   Female      London     Monitor       1   \n",
      "4     Male      London     Monitor       2   \n",
      "..     ...         ...         ...     ...   \n",
      "95    Male       Texas  Headphones       2   \n",
      "96    Male  California  Headphones       5   \n",
      "97  Female       Delhi      Tablet       4   \n",
      "98    Male      Sydney  Smartphone       4   \n",
      "99  Female      Berlin     Monitor       1   \n",
      "\n",
      "                                               Review  \n",
      "0            Not satisfied, overhyped and overpriced.  \n",
      "1     Outstanding performance, very smooth operation!  \n",
      "2         The product is okay, does what it promises.  \n",
      "3                Disappointed, very slow performance.  \n",
      "4                Disappointed, very slow performance.  \n",
      "..                                                ...  \n",
      "95   Battery drains too quickly, not worth the price.  \n",
      "96       Excellent product, exceeded my expectations!  \n",
      "97    Outstanding performance, very smooth operation!  \n",
      "98                  Value for money, works perfectly!  \n",
      "99  Poor build quality, stopped working after a week.  \n",
      "\n",
      "[100 rows x 5 columns]\n"
     ]
    }
   ],
   "source": [
    "import pandas as pd\n",
    "reviews = pd.read_csv(r'electronics_sentiment_dataset.csv')\n",
    "\n",
    "print(reviews)"
   ]
  },
  {
   "cell_type": "markdown",
   "metadata": {},
   "source": [
    "## Sentiment analysis on reviews"
   ]
  },
  {
   "cell_type": "code",
   "execution_count": 3,
   "metadata": {},
   "outputs": [],
   "source": [
    "from nltk.sentiment import SentimentIntensityAnalyzer\n",
    "\n",
    "sia = SentimentIntensityAnalyzer()"
   ]
  },
  {
   "cell_type": "code",
   "execution_count": 4,
   "metadata": {},
   "outputs": [],
   "source": [
    "def analyze_sentiment(text):\n",
    "    sentiment = sia.polarity_scores(text)\n",
    "    return round(((((sentiment['compound'] + 1) / 2) * 4) + 1) / 2, 3) "
   ]
  },
  {
   "cell_type": "code",
   "execution_count": 5,
   "metadata": {},
   "outputs": [],
   "source": [
    "reviews['Sentiment_Value'] = reviews['Review'].apply(analyze_sentiment)"
   ]
  },
  {
   "cell_type": "code",
   "execution_count": 6,
   "metadata": {},
   "outputs": [],
   "source": [
    "reviews['Combine_Score'] = round((reviews['Rating'] + reviews['Sentiment_Value']) / 2, 3)"
   ]
  },
  {
   "cell_type": "markdown",
   "metadata": {},
   "source": [
    "## Giving Positive, Negative and Neutral Sentiments to the reviews"
   ]
  },
  {
   "cell_type": "code",
   "execution_count": 7,
   "metadata": {},
   "outputs": [],
   "source": [
    "def find_Sentiment(score):\n",
    "    if score > 2.7:\n",
    "        return 'Positive'\n",
    "    elif score < 2.4:\n",
    "        return 'Negative'\n",
    "    return 'Neutral'"
   ]
  },
  {
   "cell_type": "code",
   "execution_count": 8,
   "metadata": {},
   "outputs": [],
   "source": [
    "reviews['Sentiment'] = reviews['Combine_Score'].apply(find_Sentiment) "
   ]
  },
  {
   "cell_type": "code",
   "execution_count": 9,
   "metadata": {},
   "outputs": [],
   "source": [
    "reviews.to_csv(r\"sentiment analysed.csv\")"
   ]
  },
  {
   "cell_type": "markdown",
   "metadata": {},
   "source": [
    "## splitting the dataset into male and female"
   ]
  },
  {
   "cell_type": "code",
   "execution_count": 10,
   "metadata": {},
   "outputs": [],
   "source": [
    "male = open(r'male.csv', 'w')\n",
    "female = open(r'female.csv', 'w')\n",
    "\n",
    "male.write(','.join(reviews.columns) + '\\n')\n",
    "female.write(','.join(reviews.columns) + '\\n')\n",
    "\n",
    "for index, row in reviews.iterrows():\n",
    "    if row['Gender'] == \"Male\":\n",
    "        male.write(','.join(map(str, row.values)) + '\\n')\n",
    "    else:\n",
    "        female.write(','.join(map(str, row.values)) + '\\n')\n",
    "\n",
    "male.close()\n",
    "female.close()"
   ]
  },
  {
   "cell_type": "markdown",
   "metadata": {},
   "source": [
    "## Gender wise percentage"
   ]
  },
  {
   "cell_type": "code",
   "execution_count": 12,
   "metadata": {},
   "outputs": [
    {
     "name": "stdout",
     "output_type": "stream",
     "text": [
      "Male \n",
      "Positive count = 13, Positive Percentage = 27.08% \n",
      "Negative count = 23, Negative Percentage = 47.92%\n",
      "Neutral Count = 12.00, Neutral Percentage = 25.00%\n",
      "Female \n",
      "Positive count = 14, Positive Percentage = 26.92% \n",
      "Negative count = 20, Negative Percentage = 38.46%\n",
      "Neutral Count = 18.00, Neutral Percentage = 34.62%\n"
     ]
    }
   ],
   "source": [
    "male = pd.read_csv('male.csv', encoding='cp1252')\n",
    "female = pd.read_csv('female.csv', encoding='cp1252')\n",
    "\n",
    "male_positive_cnt = 0\n",
    "male_negative_cnt = 0\n",
    "\n",
    "female_positive_cnt = 0\n",
    "female_negative_cnt = 0\n",
    "\n",
    "for index, review in male.iterrows():\n",
    "    if review['Sentiment'] == 'Positive':\n",
    "        male_positive_cnt += 1\n",
    "    if review['Sentiment'] == 'Negative':\n",
    "        male_negative_cnt += 1\n",
    "    \n",
    "for index, review in female.iterrows():\n",
    "    if review['Sentiment'] == 'Positive':\n",
    "        female_positive_cnt += 1\n",
    "    if review['Sentiment'] == 'Negative':\n",
    "        female_negative_cnt += 1\n",
    "\n",
    "male_positive_percentage = male_positive_cnt / len(male) * 100\n",
    "male_negative_percentage = male_negative_cnt / len(male) * 100\n",
    "\n",
    "female_positive_percentage = female_positive_cnt / len(female) * 100\n",
    "female_negative_percentage = female_negative_cnt / len(female) * 100\n",
    "\n",
    "print(f\"Male \\nPositive count = {male_positive_cnt}, Positive Percentage = {male_positive_percentage:.2f}% \\nNegative count = {male_negative_cnt}, Negative Percentage = {male_negative_percentage:.2f}%\\nNeutral Count = {(len(male)-male_positive_cnt-male_negative_cnt):.2f}, Neutral Percentage = {(((len(male)-male_positive_cnt-male_negative_cnt)/len(male))*100):.2f}%\")\n",
    "print(f\"Female \\nPositive count = {female_positive_cnt}, Positive Percentage = {female_positive_percentage:.2f}% \\nNegative count = {female_negative_cnt}, Negative Percentage = {female_negative_percentage:.2f}%\\nNeutral Count = {(len(female)-female_positive_cnt-female_negative_cnt):.2f}, Neutral Percentage = {(((len(female)-female_positive_cnt-female_negative_cnt)/len(female))*100):.2f}%\")"
   ]
  }
 ],
 "metadata": {
  "kernelspec": {
   "display_name": "Python 3",
   "language": "python",
   "name": "python3"
  },
  "language_info": {
   "codemirror_mode": {
    "name": "ipython",
    "version": 3
   },
   "file_extension": ".py",
   "mimetype": "text/x-python",
   "name": "python",
   "nbconvert_exporter": "python",
   "pygments_lexer": "ipython3",
   "version": "3.13.0"
  }
 },
 "nbformat": 4,
 "nbformat_minor": 2
}
