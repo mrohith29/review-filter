{
 "cells": [
  {
   "cell_type": "markdown",
   "metadata": {},
   "source": [
    "## import the dataset"
   ]
  },
  {
   "cell_type": "code",
   "execution_count": 67,
   "metadata": {},
   "outputs": [
    {
     "name": "stdout",
     "output_type": "stream",
     "text": [
      "    Gender    Location     Product  Rating  \\\n",
      "0   Female     Florida  Headphones       2   \n",
      "1     Male       Texas  Headphones       5   \n",
      "2     Male    New York  Headphones       3   \n",
      "3   Female      London     Monitor       1   \n",
      "4     Male      London     Monitor       2   \n",
      "..     ...         ...         ...     ...   \n",
      "95    Male       Texas  Headphones       2   \n",
      "96    Male  California  Headphones       5   \n",
      "97  Female       Delhi      Tablet       4   \n",
      "98    Male      Sydney  Smartphone       4   \n",
      "99  Female      Berlin     Monitor       1   \n",
      "\n",
      "                                               Review  \n",
      "0            Not satisfied, overhyped and overpriced.  \n",
      "1     Outstanding performance, very smooth operation!  \n",
      "2         The product is okay, does what it promises.  \n",
      "3                Disappointed, very slow performance.  \n",
      "4                Disappointed, very slow performance.  \n",
      "..                                                ...  \n",
      "95   Battery drains too quickly, not worth the price.  \n",
      "96       Excellent product, exceeded my expectations!  \n",
      "97    Outstanding performance, very smooth operation!  \n",
      "98                  Value for money, works perfectly!  \n",
      "99  Poor build quality, stopped working after a week.  \n",
      "\n",
      "[100 rows x 5 columns]\n"
     ]
    }
   ],
   "source": [
    "import pandas as pd\n",
    "reviews = pd.read_csv(r'electronics_sentiment_dataset.csv')\n",
    "\n",
    "print(reviews)"
   ]
  },
  {
   "cell_type": "markdown",
   "metadata": {},
   "source": [
    "## Sentiment analysis on reviews"
   ]
  },
  {
   "cell_type": "code",
   "execution_count": 68,
   "metadata": {},
   "outputs": [],
   "source": [
    "from nltk.sentiment import SentimentIntensityAnalyzer\n",
    "\n",
    "sia = SentimentIntensityAnalyzer()"
   ]
  },
  {
   "cell_type": "code",
   "execution_count": 69,
   "metadata": {},
   "outputs": [],
   "source": [
    "def analyze_sentiment(text):\n",
    "    sentiment = sia.polarity_scores(text)\n",
    "    return round(((((sentiment['compound'] + 1) / 2) * 4) + 1) / 2, 3) "
   ]
  },
  {
   "cell_type": "code",
   "execution_count": 70,
   "metadata": {},
   "outputs": [],
   "source": [
    "reviews['Sentiment_Value'] = reviews['Review'].apply(analyze_sentiment)"
   ]
  },
  {
   "cell_type": "code",
   "execution_count": 76,
   "metadata": {},
   "outputs": [],
   "source": [
    "reviews['Combine_Score'] = round((reviews['Rating'] + reviews['Sentiment_Value']) / 2, 3)"
   ]
  },
  {
   "cell_type": "markdown",
   "metadata": {},
   "source": [
    "## Giving Positive, Negative and Neutral Sentiments to the reviews"
   ]
  },
  {
   "cell_type": "code",
   "execution_count": 72,
   "metadata": {},
   "outputs": [],
   "source": [
    "def find_Sentiment(score):\n",
    "    if score > 2.7:\n",
    "        return 'Positive'\n",
    "    elif score < 2.4:\n",
    "        return 'Negative'\n",
    "    return 'Neutral'"
   ]
  },
  {
   "cell_type": "code",
   "execution_count": 78,
   "metadata": {},
   "outputs": [],
   "source": [
    "reviews['Sentiment'] = reviews['Combine_Score'].apply(find_Sentiment) "
   ]
  },
  {
   "cell_type": "code",
   "execution_count": 79,
   "metadata": {},
   "outputs": [],
   "source": [
    "reviews.to_csv(r\"sentiment analysed.csv\")"
   ]
  },
  {
   "cell_type": "markdown",
   "metadata": {},
   "source": [
    "## splitting the dataset into male and female"
   ]
  },
  {
   "cell_type": "code",
   "execution_count": 80,
   "metadata": {},
   "outputs": [],
   "source": [
    "male = open(r'male.csv', 'w')\n",
    "female = open(r'female.csv', 'w')\n",
    "\n",
    "male.write(','.join(reviews.columns) + '\\n')\n",
    "female.write(','.join(reviews.columns) + '\\n')\n",
    "\n",
    "for index, row in reviews.iterrows():\n",
    "    if row['Gender'] == \"Male\":\n",
    "        male.write(','.join(map(str, row.values)) + '\\n')\n",
    "    else:\n",
    "        female.write(','.join(map(str, row.values)) + '\\n')\n",
    "\n",
    "male.close()\n",
    "female.close()"
   ]
  }
 ],
 "metadata": {
  "kernelspec": {
   "display_name": "Python 3",
   "language": "python",
   "name": "python3"
  },
  "language_info": {
   "codemirror_mode": {
    "name": "ipython",
    "version": 3
   },
   "file_extension": ".py",
   "mimetype": "text/x-python",
   "name": "python",
   "nbconvert_exporter": "python",
   "pygments_lexer": "ipython3",
   "version": "3.13.0"
  }
 },
 "nbformat": 4,
 "nbformat_minor": 2
}
